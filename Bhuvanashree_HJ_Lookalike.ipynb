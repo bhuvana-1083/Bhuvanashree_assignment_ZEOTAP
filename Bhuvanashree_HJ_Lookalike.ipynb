{
 "cells": [
  {
   "cell_type": "code",
   "execution_count": 1,
   "id": "b20880a2-ec7e-47cb-92ee-38b7fbfb40da",
   "metadata": {},
   "outputs": [],
   "source": [
    "import pandas as pd\n",
    "from sklearn.metrics.pairwise import cosine_similarity\n",
    "import numpy as np"
   ]
  },
  {
   "cell_type": "code",
   "execution_count": 3,
   "id": "48c731cf-1a33-4a4d-974d-689385736426",
   "metadata": {},
   "outputs": [],
   "source": [
    "customers = pd.read_csv(\"Customers.csv\")\n",
    "transactions = pd.read_csv(\"Transactions.csv\")\n",
    "products = pd.read_csv(\"Products.csv\")"
   ]
  },
  {
   "cell_type": "code",
   "execution_count": 5,
   "id": "79925d4e-79d3-47fd-8fb9-e496f3d638e6",
   "metadata": {},
   "outputs": [],
   "source": [
    "# Merge datasets to create a table\n",
    "transactions_products = pd.merge(transactions, products, on=\"ProductID\", how=\"left\")\n",
    "customer_data = pd.merge(transactions_products, customers, on=\"CustomerID\", how=\"left\")\n"
   ]
  },
  {
   "cell_type": "code",
   "execution_count": 8,
   "id": "d3bf03bc-5514-4f12-a7e5-d5f34eb4d427",
   "metadata": {},
   "outputs": [],
   "source": [
    "# Create a pivot table: rows = customers, columns = products, values = total quantity\n",
    "customer_product_matrix = customer_data.pivot_table(\n",
    "    index=\"CustomerID\", columns=\"ProductID\", values=\"Quantity\", fill_value=0\n",
    ")"
   ]
  },
  {
   "cell_type": "code",
   "execution_count": 10,
   "id": "70311534-1364-489c-9383-94637b5203b1",
   "metadata": {},
   "outputs": [],
   "source": [
    "# Compute cosine similarity between customers\n",
    "similarity_matrix = cosine_similarity(customer_product_matrix)"
   ]
  },
  {
   "cell_type": "code",
   "execution_count": 12,
   "id": "093db61b-77de-4e8c-ba2e-9f317a982709",
   "metadata": {},
   "outputs": [],
   "source": [
    "def recommend_customers(customer_id, customer_ids, similarity_matrix, top_n=3):\n",
    "    try:       \n",
    "        customer_idx = list(customer_ids).index(customer_id)\n",
    "        similarity_scores = similarity_matrix[customer_idx]\n",
    "        \n",
    "        # Rank scores (excluding self)\n",
    "        similar_customers = [\n",
    "            (customer_ids[idx], similarity_scores[idx])\n",
    "            for idx in np.argsort(similarity_scores)[::-1]\n",
    "            if customer_ids[idx] != customer_id\n",
    "        ]\n",
    "        return similar_customers[:top_n]\n",
    "    except ValueError:\n",
    "        return []"
   ]
  },
  {
   "cell_type": "code",
   "execution_count": 18,
   "id": "ded371e8-cac6-4abe-b23e-ec34276f021a",
   "metadata": {},
   "outputs": [],
   "source": [
    "# Generating lookalikes for customers C0001 to C0020\n",
    "customer_ids = customer_product_matrix.index\n",
    "lookalike_results = {}\n",
    "\n",
    "for customer_id in customer_ids[:20]:  # First 20 customers\n",
    "    recommendations = recommend_customers(customer_id, customer_ids, similarity_matrix)\n",
    "    lookalike_results[customer_id] = recommendations"
   ]
  },
  {
   "cell_type": "code",
   "execution_count": 22,
   "id": "fb3c870f-0c16-411f-89e0-d228e1c4a5d2",
   "metadata": {},
   "outputs": [
    {
     "name": "stdout",
     "output_type": "stream",
     "text": [
      "Lookalike recommendations saved!\n"
     ]
    }
   ],
   "source": [
    "# Save results in the required format\n",
    "lookalike_df = pd.DataFrame(\n",
    "    {\n",
    "        \"CustomerID\": lookalike_results.keys(),\n",
    "        \"Recommendations\": [\n",
    "            [(rec[0], round(rec[1], 3)) for rec in recs]\n",
    "            for recs in lookalike_results.values()\n",
    "        ],\n",
    "    }\n",
    ")\n",
    "\n",
    "lookalike_df.to_csv(\"Bhuvanashree_H_J_Lookalike.csv\", index=False)\n",
    "print(\"Lookalike recommendations saved!\")"
   ]
  },
  {
   "cell_type": "code",
   "execution_count": null,
   "id": "aee8c951-84bf-417c-8bee-e5fe3eb220b7",
   "metadata": {},
   "outputs": [],
   "source": []
  }
 ],
 "metadata": {
  "kernelspec": {
   "display_name": "Python [conda env:base] *",
   "language": "python",
   "name": "conda-base-py"
  },
  "language_info": {
   "codemirror_mode": {
    "name": "ipython",
    "version": 3
   },
   "file_extension": ".py",
   "mimetype": "text/x-python",
   "name": "python",
   "nbconvert_exporter": "python",
   "pygments_lexer": "ipython3",
   "version": "3.12.7"
  }
 },
 "nbformat": 4,
 "nbformat_minor": 5
}
